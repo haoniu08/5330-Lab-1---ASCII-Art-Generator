{
 "cells": [
  {
   "cell_type": "code",
   "execution_count": null,
   "metadata": {},
   "outputs": [
    {
     "ename": "",
     "evalue": "",
     "output_type": "error",
     "traceback": [
      "\u001b[1;31mRunning cells with 'Python 3.12.6' requires the ipykernel package.\n",
      "\u001b[1;31mRun the following command to install 'ipykernel' into the Python environment. \n",
      "\u001b[1;31mCommand: '/opt/homebrew/bin/python3 -m pip install ipykernel -U --user --force-reinstall'"
     ]
    }
   ],
   "source": [
    "import cv2\n",
    "import numpy as np\n",
    "import matplotlib.pyplot as plt\n",
    "\n",
    "# Load and convert image to grayscale\n",
    "def load_and_grayscale(image_path):\n",
    "    image = cv2.imread(image_path)\n",
    "    if image is None:\n",
    "        raise ValueError(\"Image not found or unable to load.\")\n",
    "    \n",
    "    # Convert to grayscale (0.299*R + 0.587*G + 0.114*B)\n",
    "    grayscale = cv2.cvtColor(image, cv2.COLOR_BGR2GRAY)\n",
    "    return grayscale\n",
    "\n",
    "# Display the histogram of the grayscale image\n",
    "def display_histogram(grayscale_image):\n",
    "    plt.figure(figsize=(6,4))\n",
    "    plt.hist(grayscale_image.ravel(), bins=256, range=[0,256], color='gray')\n",
    "    plt.title('Histogram of Grayscale Image')\n",
    "    plt.xlabel('Pixel Intensity')\n",
    "    plt.ylabel('Frequency')\n",
    "    plt.show()\n",
    "\n",
    "# Apply edge detection (Canny algorithm)\n",
    "def apply_edge_detection(grayscale_image, threshold1=100, threshold2=200):\n",
    "    edges = cv2.Canny(grayscale_image, threshold1, threshold2)\n",
    "    return edges\n",
    "\n",
    "# Display the original and processed images side by side\n",
    "def display_images(original, processed, title1=\"Original\", title2=\"Processed\"):\n",
    "    plt.figure(figsize=(10,5))\n",
    "    plt.subplot(1, 2, 1)\n",
    "    plt.imshow(original, cmap='gray')\n",
    "    plt.title(title1)\n",
    "    plt.subplot(1, 2, 2)\n",
    "    plt.imshow(processed, cmap='gray')\n",
    "    plt.title(title2)\n",
    "    plt.show()\n",
    "\n",
    "# Test the functions\n",
    "image_path = 'imgs/dickens.jpg'\n",
    "grayscale_image = load_and_grayscale(image_path)\n",
    "\n",
    "# Display the histogram of grayscale image\n",
    "display_histogram(grayscale_image)\n",
    "\n",
    "# After inspecting the histogram, adjust the thresholds as needed\n",
    "edges_image = apply_edge_detection(grayscale_image, threshold1=100, threshold2=200)\n",
    "\n",
    "# Display the original grayscale and edge-detected images\n",
    "display_images(grayscale_image, edges_image, title1=\"Grayscale\", title2=\"Edges\")\n"
   ]
  }
 ],
 "metadata": {
  "kernelspec": {
   "display_name": "Python 3",
   "language": "python",
   "name": "python3"
  },
  "language_info": {
   "codemirror_mode": {
    "name": "ipython",
    "version": 3
   },
   "file_extension": ".py",
   "mimetype": "text/x-python",
   "name": "python",
   "nbconvert_exporter": "python",
   "pygments_lexer": "ipython3",
   "version": "3.12.6"
  }
 },
 "nbformat": 4,
 "nbformat_minor": 2
}
